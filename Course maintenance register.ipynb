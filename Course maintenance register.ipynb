{
 "cells": [
  {
   "cell_type": "code",
   "execution_count": 25,
   "id": "aeda77fc",
   "metadata": {},
   "outputs": [
    {
     "name": "stdout",
     "output_type": "stream",
     "text": [
      "moses\n"
     ]
    }
   ],
   "source": [
    "class Student:\n",
    "    def __init__(self, name, age, score):\n",
    "        self.name = name\n",
    "        self.age = age\n",
    "        self.score = score\n",
    "    \n",
    "#     def Name(self):\n",
    "#         self.name = name\n",
    "        \n",
    "moses = Student(\"moses\", 29, 95)\n",
    "a.age\n",
    "print(a.name)"
   ]
  },
  {
   "cell_type": "code",
   "execution_count": 28,
   "id": "99bd1a9d",
   "metadata": {},
   "outputs": [
    {
     "name": "stdout",
     "output_type": "stream",
     "text": [
      "moses\n"
     ]
    }
   ],
   "source": [
    "# class Student:\n",
    "#     def __init__(self, name, age, score):\n",
    "#         self.name = name\n",
    "#         self.age = age\n",
    "#         self.score = score\n",
    "    \n",
    "#     def get_score(self):\n",
    "#         return self.score\n",
    "\n",
    "# moses = Student(\"moses\", 20, 95)\n",
    "# print(moses)"
   ]
  },
  {
   "cell_type": "code",
   "execution_count": 13,
   "id": "963fec77",
   "metadata": {},
   "outputs": [
    {
     "name": "stdout",
     "output_type": "stream",
     "text": [
      "[<__main__.Student object at 0x053F48F8>]\n",
      "[<__main__.Student object at 0x053F48F8>, <__main__.Student object at 0x053F4928>]\n",
      "[<__main__.Student object at 0x053F48F8>, <__main__.Student object at 0x053F4928>, <__main__.Student object at 0x053F4A90>]\n",
      "Sorry!, This course can only take maximum of 3 students\n",
      "[<__main__.Student object at 0x053F48F8>, <__main__.Student object at 0x053F4928>, <__main__.Student object at 0x053F4A90>]\n",
      "21\n"
     ]
    }
   ],
   "source": [
    "class Student:\n",
    "    def __init__(self, name, age, score):\n",
    "        self.name = name\n",
    "        self.age = age\n",
    "        self.score = score\n",
    "        \n",
    "#     def get_score(self):\n",
    "#         return self.score\n",
    "    \n",
    "class Course:\n",
    "    def __init__(self, name, maxStudents):\n",
    "        self.name = name\n",
    "        self.maxStudents = maxStudents\n",
    "        self.students = []\n",
    "        \n",
    "    def add_student(self, student):\n",
    "        if len(self.students) < self.maxStudents:\n",
    "            self.students.append(student)\n",
    "            print(self.students)\n",
    "        else:\n",
    "            print(f\"Sorry!, This course can only take maximum of {self.maxStudents} students\")\n",
    "# class Mcourse(Course):\n",
    "#     def __init__(self, name, maxStudents, gender):\n",
    "#         Course.__init__(self, name, maxStudents)\n",
    "#         self.gender = gender\n",
    "#         self.students = []\n",
    "    \n",
    "student1 = Student(\"Moses\", 20, 98)\n",
    "student2 = Student(\"joshua\", 21, 80)\n",
    "student3 = Student(\"Jude\", 22, 70)\n",
    "student4 = Student(\"idris\", 23, 90)\n",
    "\n",
    "course= Course(\"pyhton\", 3)\n",
    "course.add_student(student1)\n",
    "course.add_student(student2)\n",
    "course.add_student(student3)\n",
    "course.add_student(student4)\n",
    "\n",
    "# male = Mcourse(\"C++\", 2, \"male\")\n",
    "# male.add_student(student1)\n",
    "# print(male.students)\n",
    "\n",
    "print(course.students)\n",
    "print(course.students[1].age)\n"
   ]
  },
  {
   "cell_type": "code",
   "execution_count": null,
   "id": "6062edf2",
   "metadata": {},
   "outputs": [],
   "source": []
  }
 ],
 "metadata": {
  "kernelspec": {
   "display_name": "Python 3 (ipykernel)",
   "language": "python",
   "name": "python3"
  },
  "language_info": {
   "codemirror_mode": {
    "name": "ipython",
    "version": 3
   },
   "file_extension": ".py",
   "mimetype": "text/x-python",
   "name": "python",
   "nbconvert_exporter": "python",
   "pygments_lexer": "ipython3",
   "version": "3.9.7"
  }
 },
 "nbformat": 4,
 "nbformat_minor": 5
}
